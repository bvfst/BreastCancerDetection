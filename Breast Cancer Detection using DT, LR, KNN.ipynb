{
 "cells": [
  {
   "cell_type": "markdown",
   "id": "3d39e8ad",
   "metadata": {},
   "source": [
    "Applying Logistic Regression, Decision Trees and L"
   ]
  },
  {
   "cell_type": "code",
   "execution_count": 1,
   "id": "9d9a03b9",
   "metadata": {},
   "outputs": [],
   "source": [
    "import warnings\n",
    "warnings.filterwarnings('ignore')"
   ]
  },
  {
   "cell_type": "code",
   "execution_count": 2,
   "id": "03aa722e",
   "metadata": {},
   "outputs": [],
   "source": [
    "import pandas as pd\n",
    "from sklearn.tree import DecisionTreeClassifier\n",
    "from sklearn.neighbors import KNeighborsClassifier\n",
    "from sklearn.model_selection import train_test_split\n",
    "from sklearn.model_selection import StratifiedShuffleSplit\n",
    "from sklearn.metrics import classification_report\n",
    "from sklearn.tree import export_graphviz\n",
    "from sklearn.model_selection import RandomizedSearchCV\n",
    "from sklearn.model_selection import GridSearchCV\n",
    "from sklearn.metrics import confusion_matrix\n",
    "from sklearn.preprocessing import MinMaxScaler\n",
    "from sklearn.linear_model import LogisticRegression\n",
    "import matplotlib.pyplot as plt\n",
    "import seaborn as sns\n",
    "from sklearn.metrics import recall_score\n",
    "from sklearn.metrics import accuracy_score\n",
    "import copy\n",
    "import math"
   ]
  },
  {
   "cell_type": "code",
   "execution_count": 3,
   "id": "b7517a20",
   "metadata": {},
   "outputs": [],
   "source": [
    "data = pd.read_csv(\"wdbc.data\", header = None)"
   ]
  },
  {
   "cell_type": "markdown",
   "id": "e14dd773",
   "metadata": {},
   "source": [
    "#### Splitting the data into Train, Eval and Test"
   ]
  },
  {
   "cell_type": "code",
   "execution_count": 4,
   "id": "bc61bf0d",
   "metadata": {},
   "outputs": [],
   "source": [
    "train_eval_set, test_set = train_test_split(data, test_size = 0.2, random_state = 42, stratify = data[1])"
   ]
  },
  {
   "cell_type": "code",
   "execution_count": 5,
   "id": "2c09faec",
   "metadata": {},
   "outputs": [],
   "source": [
    "train_set, eval_set = train_test_split(train_eval_set, test_size = 0.3, random_state = 42, stratify = train_eval_set[1])"
   ]
  },
  {
   "cell_type": "code",
   "execution_count": 6,
   "id": "508adb0a",
   "metadata": {},
   "outputs": [],
   "source": [
    "# print(data.shape)\n",
    "# print(train_set.shape)\n",
    "# print(eval_set.shape)\n",
    "# print(test_set.shape)"
   ]
  },
  {
   "cell_type": "code",
   "execution_count": 7,
   "id": "12b91e0b",
   "metadata": {
    "scrolled": true
   },
   "outputs": [],
   "source": [
    "train_X = train_set.drop([0, 1], axis = 1)\n",
    "train_Y = train_set[1]"
   ]
  },
  {
   "cell_type": "code",
   "execution_count": 8,
   "id": "a7f7dfdb",
   "metadata": {},
   "outputs": [],
   "source": [
    "eval_X = eval_set.drop([0, 1], axis = 1)\n",
    "eval_Y = eval_set[1]"
   ]
  },
  {
   "cell_type": "code",
   "execution_count": 9,
   "id": "5da7e8d2",
   "metadata": {},
   "outputs": [],
   "source": [
    "test_X = test_set.drop([0, 1], axis = 1)\n",
    "test_Y = test_set[1]"
   ]
  },
  {
   "cell_type": "code",
   "execution_count": 10,
   "id": "c301a19a",
   "metadata": {},
   "outputs": [],
   "source": [
    "train_eval_set_X = train_eval_set.drop([0, 1], axis = 1)\n",
    "train_eval_set_Y = train_eval_set[1]"
   ]
  },
  {
   "cell_type": "markdown",
   "id": "7efebe16",
   "metadata": {},
   "source": [
    "#### Exploring the dataset"
   ]
  },
  {
   "cell_type": "code",
   "execution_count": 11,
   "id": "70b39883",
   "metadata": {},
   "outputs": [
    {
     "data": {
      "text/html": [
       "<div>\n",
       "<style scoped>\n",
       "    .dataframe tbody tr th:only-of-type {\n",
       "        vertical-align: middle;\n",
       "    }\n",
       "\n",
       "    .dataframe tbody tr th {\n",
       "        vertical-align: top;\n",
       "    }\n",
       "\n",
       "    .dataframe thead th {\n",
       "        text-align: right;\n",
       "    }\n",
       "</style>\n",
       "<table border=\"1\" class=\"dataframe\">\n",
       "  <thead>\n",
       "    <tr style=\"text-align: right;\">\n",
       "      <th></th>\n",
       "      <th>0</th>\n",
       "      <th>1</th>\n",
       "      <th>2</th>\n",
       "      <th>3</th>\n",
       "      <th>4</th>\n",
       "      <th>5</th>\n",
       "      <th>6</th>\n",
       "      <th>7</th>\n",
       "      <th>8</th>\n",
       "      <th>9</th>\n",
       "      <th>...</th>\n",
       "      <th>22</th>\n",
       "      <th>23</th>\n",
       "      <th>24</th>\n",
       "      <th>25</th>\n",
       "      <th>26</th>\n",
       "      <th>27</th>\n",
       "      <th>28</th>\n",
       "      <th>29</th>\n",
       "      <th>30</th>\n",
       "      <th>31</th>\n",
       "    </tr>\n",
       "  </thead>\n",
       "  <tbody>\n",
       "    <tr>\n",
       "      <th>223</th>\n",
       "      <td>8812877</td>\n",
       "      <td>M</td>\n",
       "      <td>15.750</td>\n",
       "      <td>20.25</td>\n",
       "      <td>102.60</td>\n",
       "      <td>761.3</td>\n",
       "      <td>0.10250</td>\n",
       "      <td>0.12040</td>\n",
       "      <td>0.11470</td>\n",
       "      <td>0.064620</td>\n",
       "      <td>...</td>\n",
       "      <td>19.560</td>\n",
       "      <td>30.29</td>\n",
       "      <td>125.90</td>\n",
       "      <td>1088.0</td>\n",
       "      <td>0.1552</td>\n",
       "      <td>0.4480</td>\n",
       "      <td>0.39760</td>\n",
       "      <td>0.14790</td>\n",
       "      <td>0.3993</td>\n",
       "      <td>0.10640</td>\n",
       "    </tr>\n",
       "    <tr>\n",
       "      <th>237</th>\n",
       "      <td>883263</td>\n",
       "      <td>M</td>\n",
       "      <td>20.480</td>\n",
       "      <td>21.46</td>\n",
       "      <td>132.50</td>\n",
       "      <td>1306.0</td>\n",
       "      <td>0.08355</td>\n",
       "      <td>0.08348</td>\n",
       "      <td>0.09042</td>\n",
       "      <td>0.060220</td>\n",
       "      <td>...</td>\n",
       "      <td>24.220</td>\n",
       "      <td>26.17</td>\n",
       "      <td>161.70</td>\n",
       "      <td>1750.0</td>\n",
       "      <td>0.1228</td>\n",
       "      <td>0.2311</td>\n",
       "      <td>0.31580</td>\n",
       "      <td>0.14450</td>\n",
       "      <td>0.2238</td>\n",
       "      <td>0.07127</td>\n",
       "    </tr>\n",
       "    <tr>\n",
       "      <th>87</th>\n",
       "      <td>86135502</td>\n",
       "      <td>M</td>\n",
       "      <td>19.020</td>\n",
       "      <td>24.59</td>\n",
       "      <td>122.00</td>\n",
       "      <td>1076.0</td>\n",
       "      <td>0.09029</td>\n",
       "      <td>0.12060</td>\n",
       "      <td>0.14680</td>\n",
       "      <td>0.082710</td>\n",
       "      <td>...</td>\n",
       "      <td>24.560</td>\n",
       "      <td>30.41</td>\n",
       "      <td>152.90</td>\n",
       "      <td>1623.0</td>\n",
       "      <td>0.1249</td>\n",
       "      <td>0.3206</td>\n",
       "      <td>0.57550</td>\n",
       "      <td>0.19560</td>\n",
       "      <td>0.3956</td>\n",
       "      <td>0.09288</td>\n",
       "    </tr>\n",
       "    <tr>\n",
       "      <th>61</th>\n",
       "      <td>858981</td>\n",
       "      <td>B</td>\n",
       "      <td>8.598</td>\n",
       "      <td>20.98</td>\n",
       "      <td>54.66</td>\n",
       "      <td>221.8</td>\n",
       "      <td>0.12430</td>\n",
       "      <td>0.08963</td>\n",
       "      <td>0.03000</td>\n",
       "      <td>0.009259</td>\n",
       "      <td>...</td>\n",
       "      <td>9.565</td>\n",
       "      <td>27.04</td>\n",
       "      <td>62.06</td>\n",
       "      <td>273.9</td>\n",
       "      <td>0.1639</td>\n",
       "      <td>0.1698</td>\n",
       "      <td>0.09001</td>\n",
       "      <td>0.02778</td>\n",
       "      <td>0.2972</td>\n",
       "      <td>0.07712</td>\n",
       "    </tr>\n",
       "    <tr>\n",
       "      <th>500</th>\n",
       "      <td>914862</td>\n",
       "      <td>B</td>\n",
       "      <td>15.040</td>\n",
       "      <td>16.74</td>\n",
       "      <td>98.73</td>\n",
       "      <td>689.4</td>\n",
       "      <td>0.09883</td>\n",
       "      <td>0.13640</td>\n",
       "      <td>0.07721</td>\n",
       "      <td>0.061420</td>\n",
       "      <td>...</td>\n",
       "      <td>16.760</td>\n",
       "      <td>20.43</td>\n",
       "      <td>109.70</td>\n",
       "      <td>856.9</td>\n",
       "      <td>0.1135</td>\n",
       "      <td>0.2176</td>\n",
       "      <td>0.18560</td>\n",
       "      <td>0.10180</td>\n",
       "      <td>0.2177</td>\n",
       "      <td>0.08549</td>\n",
       "    </tr>\n",
       "  </tbody>\n",
       "</table>\n",
       "<p>5 rows × 32 columns</p>\n",
       "</div>"
      ],
      "text/plain": [
       "           0  1       2      3       4       5        6        7        8   \\\n",
       "223   8812877  M  15.750  20.25  102.60   761.3  0.10250  0.12040  0.11470   \n",
       "237    883263  M  20.480  21.46  132.50  1306.0  0.08355  0.08348  0.09042   \n",
       "87   86135502  M  19.020  24.59  122.00  1076.0  0.09029  0.12060  0.14680   \n",
       "61     858981  B   8.598  20.98   54.66   221.8  0.12430  0.08963  0.03000   \n",
       "500    914862  B  15.040  16.74   98.73   689.4  0.09883  0.13640  0.07721   \n",
       "\n",
       "           9   ...      22     23      24      25      26      27       28  \\\n",
       "223  0.064620  ...  19.560  30.29  125.90  1088.0  0.1552  0.4480  0.39760   \n",
       "237  0.060220  ...  24.220  26.17  161.70  1750.0  0.1228  0.2311  0.31580   \n",
       "87   0.082710  ...  24.560  30.41  152.90  1623.0  0.1249  0.3206  0.57550   \n",
       "61   0.009259  ...   9.565  27.04   62.06   273.9  0.1639  0.1698  0.09001   \n",
       "500  0.061420  ...  16.760  20.43  109.70   856.9  0.1135  0.2176  0.18560   \n",
       "\n",
       "          29      30       31  \n",
       "223  0.14790  0.3993  0.10640  \n",
       "237  0.14450  0.2238  0.07127  \n",
       "87   0.19560  0.3956  0.09288  \n",
       "61   0.02778  0.2972  0.07712  \n",
       "500  0.10180  0.2177  0.08549  \n",
       "\n",
       "[5 rows x 32 columns]"
      ]
     },
     "execution_count": 11,
     "metadata": {},
     "output_type": "execute_result"
    }
   ],
   "source": [
    "train_set.head()"
   ]
  },
  {
   "cell_type": "code",
   "execution_count": 12,
   "id": "a2257555",
   "metadata": {
    "scrolled": true
   },
   "outputs": [
    {
     "name": "stdout",
     "output_type": "stream",
     "text": [
      "<class 'pandas.core.frame.DataFrame'>\n",
      "Int64Index: 318 entries, 223 to 493\n",
      "Data columns (total 32 columns):\n",
      " #   Column  Non-Null Count  Dtype  \n",
      "---  ------  --------------  -----  \n",
      " 0   0       318 non-null    int64  \n",
      " 1   1       318 non-null    object \n",
      " 2   2       318 non-null    float64\n",
      " 3   3       318 non-null    float64\n",
      " 4   4       318 non-null    float64\n",
      " 5   5       318 non-null    float64\n",
      " 6   6       318 non-null    float64\n",
      " 7   7       318 non-null    float64\n",
      " 8   8       318 non-null    float64\n",
      " 9   9       318 non-null    float64\n",
      " 10  10      318 non-null    float64\n",
      " 11  11      318 non-null    float64\n",
      " 12  12      318 non-null    float64\n",
      " 13  13      318 non-null    float64\n",
      " 14  14      318 non-null    float64\n",
      " 15  15      318 non-null    float64\n",
      " 16  16      318 non-null    float64\n",
      " 17  17      318 non-null    float64\n",
      " 18  18      318 non-null    float64\n",
      " 19  19      318 non-null    float64\n",
      " 20  20      318 non-null    float64\n",
      " 21  21      318 non-null    float64\n",
      " 22  22      318 non-null    float64\n",
      " 23  23      318 non-null    float64\n",
      " 24  24      318 non-null    float64\n",
      " 25  25      318 non-null    float64\n",
      " 26  26      318 non-null    float64\n",
      " 27  27      318 non-null    float64\n",
      " 28  28      318 non-null    float64\n",
      " 29  29      318 non-null    float64\n",
      " 30  30      318 non-null    float64\n",
      " 31  31      318 non-null    float64\n",
      "dtypes: float64(30), int64(1), object(1)\n",
      "memory usage: 82.0+ KB\n"
     ]
    }
   ],
   "source": [
    "train_set.info()"
   ]
  },
  {
   "cell_type": "code",
   "execution_count": 13,
   "id": "6ed45765",
   "metadata": {},
   "outputs": [
    {
     "data": {
      "text/plain": [
       "B    357\n",
       "M    212\n",
       "Name: 1, dtype: int64"
      ]
     },
     "execution_count": 13,
     "metadata": {},
     "output_type": "execute_result"
    }
   ],
   "source": [
    "data[1].value_counts()"
   ]
  },
  {
   "cell_type": "code",
   "execution_count": 14,
   "id": "ca72bfe6",
   "metadata": {},
   "outputs": [
    {
     "data": {
      "text/html": [
       "<div>\n",
       "<style scoped>\n",
       "    .dataframe tbody tr th:only-of-type {\n",
       "        vertical-align: middle;\n",
       "    }\n",
       "\n",
       "    .dataframe tbody tr th {\n",
       "        vertical-align: top;\n",
       "    }\n",
       "\n",
       "    .dataframe thead th {\n",
       "        text-align: right;\n",
       "    }\n",
       "</style>\n",
       "<table border=\"1\" class=\"dataframe\">\n",
       "  <thead>\n",
       "    <tr style=\"text-align: right;\">\n",
       "      <th></th>\n",
       "      <th>0</th>\n",
       "      <th>2</th>\n",
       "      <th>3</th>\n",
       "      <th>4</th>\n",
       "      <th>5</th>\n",
       "      <th>6</th>\n",
       "      <th>7</th>\n",
       "      <th>8</th>\n",
       "      <th>9</th>\n",
       "      <th>10</th>\n",
       "      <th>...</th>\n",
       "      <th>22</th>\n",
       "      <th>23</th>\n",
       "      <th>24</th>\n",
       "      <th>25</th>\n",
       "      <th>26</th>\n",
       "      <th>27</th>\n",
       "      <th>28</th>\n",
       "      <th>29</th>\n",
       "      <th>30</th>\n",
       "      <th>31</th>\n",
       "    </tr>\n",
       "  </thead>\n",
       "  <tbody>\n",
       "    <tr>\n",
       "      <th>count</th>\n",
       "      <td>3.180000e+02</td>\n",
       "      <td>318.000000</td>\n",
       "      <td>318.000000</td>\n",
       "      <td>318.000000</td>\n",
       "      <td>318.000000</td>\n",
       "      <td>318.000000</td>\n",
       "      <td>318.000000</td>\n",
       "      <td>318.000000</td>\n",
       "      <td>318.000000</td>\n",
       "      <td>318.000000</td>\n",
       "      <td>...</td>\n",
       "      <td>318.000000</td>\n",
       "      <td>318.000000</td>\n",
       "      <td>318.000000</td>\n",
       "      <td>318.000000</td>\n",
       "      <td>318.000000</td>\n",
       "      <td>318.000000</td>\n",
       "      <td>318.000000</td>\n",
       "      <td>318.000000</td>\n",
       "      <td>318.000000</td>\n",
       "      <td>318.000000</td>\n",
       "    </tr>\n",
       "    <tr>\n",
       "      <th>mean</th>\n",
       "      <td>3.947455e+07</td>\n",
       "      <td>14.187748</td>\n",
       "      <td>19.366667</td>\n",
       "      <td>92.351635</td>\n",
       "      <td>660.859748</td>\n",
       "      <td>0.095678</td>\n",
       "      <td>0.103543</td>\n",
       "      <td>0.087529</td>\n",
       "      <td>0.048458</td>\n",
       "      <td>0.180300</td>\n",
       "      <td>...</td>\n",
       "      <td>16.364953</td>\n",
       "      <td>25.816730</td>\n",
       "      <td>107.861447</td>\n",
       "      <td>891.043711</td>\n",
       "      <td>0.132243</td>\n",
       "      <td>0.255595</td>\n",
       "      <td>0.275599</td>\n",
       "      <td>0.115283</td>\n",
       "      <td>0.290668</td>\n",
       "      <td>0.083622</td>\n",
       "    </tr>\n",
       "    <tr>\n",
       "      <th>std</th>\n",
       "      <td>1.496882e+08</td>\n",
       "      <td>3.548175</td>\n",
       "      <td>4.337178</td>\n",
       "      <td>24.491744</td>\n",
       "      <td>357.611220</td>\n",
       "      <td>0.014299</td>\n",
       "      <td>0.052250</td>\n",
       "      <td>0.076948</td>\n",
       "      <td>0.038339</td>\n",
       "      <td>0.027124</td>\n",
       "      <td>...</td>\n",
       "      <td>4.875143</td>\n",
       "      <td>6.020909</td>\n",
       "      <td>33.904947</td>\n",
       "      <td>585.521940</td>\n",
       "      <td>0.023867</td>\n",
       "      <td>0.153330</td>\n",
       "      <td>0.207647</td>\n",
       "      <td>0.064318</td>\n",
       "      <td>0.063623</td>\n",
       "      <td>0.017157</td>\n",
       "    </tr>\n",
       "    <tr>\n",
       "      <th>min</th>\n",
       "      <td>8.670000e+03</td>\n",
       "      <td>7.691000</td>\n",
       "      <td>9.710000</td>\n",
       "      <td>48.340000</td>\n",
       "      <td>170.400000</td>\n",
       "      <td>0.064290</td>\n",
       "      <td>0.023440</td>\n",
       "      <td>0.000000</td>\n",
       "      <td>0.000000</td>\n",
       "      <td>0.106000</td>\n",
       "      <td>...</td>\n",
       "      <td>8.678000</td>\n",
       "      <td>12.020000</td>\n",
       "      <td>54.490000</td>\n",
       "      <td>223.600000</td>\n",
       "      <td>0.071170</td>\n",
       "      <td>0.027290</td>\n",
       "      <td>0.000000</td>\n",
       "      <td>0.000000</td>\n",
       "      <td>0.156600</td>\n",
       "      <td>0.055210</td>\n",
       "    </tr>\n",
       "    <tr>\n",
       "      <th>25%</th>\n",
       "      <td>8.702288e+05</td>\n",
       "      <td>11.710000</td>\n",
       "      <td>16.392500</td>\n",
       "      <td>75.007500</td>\n",
       "      <td>420.300000</td>\n",
       "      <td>0.084748</td>\n",
       "      <td>0.063238</td>\n",
       "      <td>0.029260</td>\n",
       "      <td>0.019787</td>\n",
       "      <td>0.161825</td>\n",
       "      <td>...</td>\n",
       "      <td>13.015000</td>\n",
       "      <td>21.407500</td>\n",
       "      <td>84.367500</td>\n",
       "      <td>516.425000</td>\n",
       "      <td>0.116600</td>\n",
       "      <td>0.148600</td>\n",
       "      <td>0.120225</td>\n",
       "      <td>0.065518</td>\n",
       "      <td>0.250525</td>\n",
       "      <td>0.071155</td>\n",
       "    </tr>\n",
       "    <tr>\n",
       "      <th>50%</th>\n",
       "      <td>9.083315e+05</td>\n",
       "      <td>13.425000</td>\n",
       "      <td>18.760000</td>\n",
       "      <td>86.735000</td>\n",
       "      <td>554.300000</td>\n",
       "      <td>0.095190</td>\n",
       "      <td>0.093020</td>\n",
       "      <td>0.060765</td>\n",
       "      <td>0.033480</td>\n",
       "      <td>0.177750</td>\n",
       "      <td>...</td>\n",
       "      <td>15.050000</td>\n",
       "      <td>25.305000</td>\n",
       "      <td>98.085000</td>\n",
       "      <td>686.600000</td>\n",
       "      <td>0.131150</td>\n",
       "      <td>0.216550</td>\n",
       "      <td>0.229000</td>\n",
       "      <td>0.099425</td>\n",
       "      <td>0.281650</td>\n",
       "      <td>0.079525</td>\n",
       "    </tr>\n",
       "    <tr>\n",
       "      <th>75%</th>\n",
       "      <td>8.910741e+06</td>\n",
       "      <td>16.090000</td>\n",
       "      <td>21.832500</td>\n",
       "      <td>104.600000</td>\n",
       "      <td>798.550000</td>\n",
       "      <td>0.104050</td>\n",
       "      <td>0.130500</td>\n",
       "      <td>0.132050</td>\n",
       "      <td>0.070095</td>\n",
       "      <td>0.195300</td>\n",
       "      <td>...</td>\n",
       "      <td>19.197500</td>\n",
       "      <td>30.342500</td>\n",
       "      <td>127.000000</td>\n",
       "      <td>1123.250000</td>\n",
       "      <td>0.146925</td>\n",
       "      <td>0.343475</td>\n",
       "      <td>0.384700</td>\n",
       "      <td>0.161375</td>\n",
       "      <td>0.320400</td>\n",
       "      <td>0.091640</td>\n",
       "    </tr>\n",
       "    <tr>\n",
       "      <th>max</th>\n",
       "      <td>9.113205e+08</td>\n",
       "      <td>27.420000</td>\n",
       "      <td>39.280000</td>\n",
       "      <td>186.900000</td>\n",
       "      <td>2501.000000</td>\n",
       "      <td>0.163400</td>\n",
       "      <td>0.345400</td>\n",
       "      <td>0.426800</td>\n",
       "      <td>0.201200</td>\n",
       "      <td>0.304000</td>\n",
       "      <td>...</td>\n",
       "      <td>36.040000</td>\n",
       "      <td>49.540000</td>\n",
       "      <td>251.200000</td>\n",
       "      <td>4254.000000</td>\n",
       "      <td>0.222600</td>\n",
       "      <td>0.937900</td>\n",
       "      <td>1.252000</td>\n",
       "      <td>0.275600</td>\n",
       "      <td>0.663800</td>\n",
       "      <td>0.173000</td>\n",
       "    </tr>\n",
       "  </tbody>\n",
       "</table>\n",
       "<p>8 rows × 31 columns</p>\n",
       "</div>"
      ],
      "text/plain": [
       "                 0           2           3           4            5   \\\n",
       "count  3.180000e+02  318.000000  318.000000  318.000000   318.000000   \n",
       "mean   3.947455e+07   14.187748   19.366667   92.351635   660.859748   \n",
       "std    1.496882e+08    3.548175    4.337178   24.491744   357.611220   \n",
       "min    8.670000e+03    7.691000    9.710000   48.340000   170.400000   \n",
       "25%    8.702288e+05   11.710000   16.392500   75.007500   420.300000   \n",
       "50%    9.083315e+05   13.425000   18.760000   86.735000   554.300000   \n",
       "75%    8.910741e+06   16.090000   21.832500  104.600000   798.550000   \n",
       "max    9.113205e+08   27.420000   39.280000  186.900000  2501.000000   \n",
       "\n",
       "               6           7           8           9           10  ...  \\\n",
       "count  318.000000  318.000000  318.000000  318.000000  318.000000  ...   \n",
       "mean     0.095678    0.103543    0.087529    0.048458    0.180300  ...   \n",
       "std      0.014299    0.052250    0.076948    0.038339    0.027124  ...   \n",
       "min      0.064290    0.023440    0.000000    0.000000    0.106000  ...   \n",
       "25%      0.084748    0.063238    0.029260    0.019787    0.161825  ...   \n",
       "50%      0.095190    0.093020    0.060765    0.033480    0.177750  ...   \n",
       "75%      0.104050    0.130500    0.132050    0.070095    0.195300  ...   \n",
       "max      0.163400    0.345400    0.426800    0.201200    0.304000  ...   \n",
       "\n",
       "               22          23          24           25          26  \\\n",
       "count  318.000000  318.000000  318.000000   318.000000  318.000000   \n",
       "mean    16.364953   25.816730  107.861447   891.043711    0.132243   \n",
       "std      4.875143    6.020909   33.904947   585.521940    0.023867   \n",
       "min      8.678000   12.020000   54.490000   223.600000    0.071170   \n",
       "25%     13.015000   21.407500   84.367500   516.425000    0.116600   \n",
       "50%     15.050000   25.305000   98.085000   686.600000    0.131150   \n",
       "75%     19.197500   30.342500  127.000000  1123.250000    0.146925   \n",
       "max     36.040000   49.540000  251.200000  4254.000000    0.222600   \n",
       "\n",
       "               27          28          29          30          31  \n",
       "count  318.000000  318.000000  318.000000  318.000000  318.000000  \n",
       "mean     0.255595    0.275599    0.115283    0.290668    0.083622  \n",
       "std      0.153330    0.207647    0.064318    0.063623    0.017157  \n",
       "min      0.027290    0.000000    0.000000    0.156600    0.055210  \n",
       "25%      0.148600    0.120225    0.065518    0.250525    0.071155  \n",
       "50%      0.216550    0.229000    0.099425    0.281650    0.079525  \n",
       "75%      0.343475    0.384700    0.161375    0.320400    0.091640  \n",
       "max      0.937900    1.252000    0.275600    0.663800    0.173000  \n",
       "\n",
       "[8 rows x 31 columns]"
      ]
     },
     "execution_count": 14,
     "metadata": {},
     "output_type": "execute_result"
    }
   ],
   "source": [
    "train_set.describe()"
   ]
  },
  {
   "cell_type": "code",
   "execution_count": 15,
   "id": "f1c6dd64",
   "metadata": {},
   "outputs": [
    {
     "data": {
      "image/png": "[encoded data removed]",
      "text/plain": [
       "<Figure size 1440x1080 with 36 Axes>"
      ]
     },
     "metadata": {
      "needs_background": "light"
     },
     "output_type": "display_data"
    }
   ],
   "source": [
    "train_set.drop([0, 1]).hist(bins = 50, figsize=(20,15))\n",
    "plt.show()"
   ]
  },
  {
   "cell_type": "code",
   "execution_count": 16,
   "id": "06ed5476",
   "metadata": {},
   "outputs": [
    {
     "data": {
      "image/png": "[encoded data removed]",
      "text/plain": [
       "<Figure size 432x288 with 1 Axes>"
      ]
     },
     "metadata": {
      "needs_background": "light"
     },
     "output_type": "display_data"
    },
    {
     "data": {
      "image/png": "[encoded data removed]",
      "text/plain": [
       "<Figure size 432x288 with 1 Axes>"
      ]
     },
     "metadata": {
      "needs_background": "light"
     },
     "output_type": "display_data"
    },
    {
     "data": {
      "image/png": "[encoded data removed]",
      "text/plain": [
       "<Figure size 432x288 with 1 Axes>"
      ]
     },
     "metadata": {
      "needs_background": "light"
     },
     "output_type": "display_data"
    },
    {
     "data": {
      "image/png": "[encoded data removed]",
      "text/plain": [
       "<Figure size 432x288 with 1 Axes>"
      ]
     },
     "metadata": {
      "needs_background": "light"
     },
     "output_type": "display_data"
    },
    {
     "data": {
      "image/png": "[encoded data removed]",
      "text/plain": [
       "<Figure size 432x288 with 1 Axes>"
      ]
     },
     "metadata": {
      "needs_background": "light"
     },
     "output_type": "display_data"
    },
    {
     "data": {
      "image/png": "[encoded data removed]",
      "text/plain": [
       "<Figure size 432x288 with 1 Axes>"
      ]
     },
     "metadata": {
      "needs_background": "light"
     },
     "output_type": "display_data"
    },
    {
     "data": {
      "image/png": "[encoded data removed]",
      "text/plain": [
       "<Figure size 432x288 with 1 Axes>"
      ]
     },
     "metadata": {
      "needs_background": "light"
     },
     "output_type": "display_data"
    },
    {
     "data": {
      "image/png": "[encoded data removed]",
      "text/plain": [
       "<Figure size 432x288 with 1 Axes>"
      ]
     },
     "metadata": {
      "needs_background": "light"
     },
     "output_type": "display_data"
    },
    {
     "data": {
      "image/png": "[encoded data removed]",
      "text/plain": [
       "<Figure size 432x288 with 1 Axes>"
      ]
     },
     "metadata": {
      "needs_background": "light"
     },
     "output_type": "display_data"
    },
    {
     "data": {
      "image/png": "[encoded data removed]",
      "text/plain": [
       "<Figure size 432x288 with 1 Axes>"
      ]
     },
     "metadata": {
      "needs_background": "light"
     },
     "output_type": "display_data"
    },
    {
     "data": {
      "image/png": "[encoded data removed]",
      "text/plain": [
       "<Figure size 432x288 with 1 Axes>"
      ]
     },
     "metadata": {
      "needs_background": "light"
     },
     "output_type": "display_data"
    },
    {
     "data": {
      "image/png": "[encoded data removed]",
      "text/plain": [
       "<Figure size 432x288 with 1 Axes>"
      ]
     },
     "metadata": {
      "needs_background": "light"
     },
     "output_type": "display_data"
    },
    {
     "data": {
      "image/png": "[encoded data removed]",
      "text/plain": [
       "<Figure size 432x288 with 1 Axes>"
      ]
     },
     "metadata": {
      "needs_background": "light"
     },
     "output_type": "display_data"
    },
    {
     "data": {
      "image/png": "[encoded data removed]",
      "text/plain": [
       "<Figure size 432x288 with 1 Axes>"
      ]
     },
     "metadata": {
      "needs_background": "light"
     },
     "output_type": "display_data"
    },
    {
     "data": {
      "image/png": "[encoded data removed]",
      "text/plain": [
       "<Figure size 432x288 with 1 Axes>"
      ]
     },
     "metadata": {
      "needs_background": "light"
     },
     "output_type": "display_data"
    },
    {
     "data": {
      "image/png": "[encoded data removed]",
      "text/plain": [
       "<Figure size 432x288 with 1 Axes>"
      ]
     },
     "metadata": {
      "needs_background": "light"
     },
     "output_type": "display_data"
    },
    {
     "data": {
      "image/png": "[encoded data removed]",
      "text/plain": [
       "<Figure size 432x288 with 1 Axes>"
      ]
     },
     "metadata": {
      "needs_background": "light"
     },
     "output_type": "display_data"
    },
    {
     "data": {
      "image/png": "[encoded data removed]",
      "text/plain": [
       "<Figure size 432x288 with 1 Axes>"
      ]
     },
     "metadata": {
      "needs_background": "light"
     },
     "output_type": "display_data"
    },
    {
     "data": {
      "image/png": "[encoded data removed]",
      "text/plain": [
       "<Figure size 432x288 with 1 Axes>"
      ]
     },
     "metadata": {
      "needs_background": "light"
     },
     "output_type": "display_data"
    },
    {
     "data": {
      "image/png": "[encoded data removed]",
      "text/plain": [
       "<Figure size 432x288 with 1 Axes>"
      ]
     },
     "metadata": {
      "needs_background": "light"
     },
     "output_type": "display_data"
    },
    {
     "data": {
      "image/png": "[encoded data removed]",
      "text/plain": [
       "<Figure size 432x288 with 1 Axes>"
      ]
     },
     "metadata": {
      "needs_background": "light"
     },
     "output_type": "display_data"
    },
    {
     "data": {
      "image/png": "[encoded data removed]",
      "text/plain": [
       "<Figure size 432x288 with 1 Axes>"
      ]
     },
     "metadata": {
      "needs_background": "light"
     },
     "output_type": "display_data"
    },
    {
     "data": {
      "image/png": "[encoded data removed]",
      "text/plain": [
       "<Figure size 432x288 with 1 Axes>"
      ]
     },
     "metadata": {
      "needs_background": "light"
     },
     "output_type": "display_data"
    },
    {
     "data": {
      "image/png": "[encoded data removed]",
      "text/plain": [
       "<Figure size 432x288 with 1 Axes>"
      ]
     },
     "metadata": {
      "needs_background": "light"
     },
     "output_type": "display_data"
    },
    {
     "data": {
      "image/png": "[encoded data removed]",
      "text/plain": [
       "<Figure size 432x288 with 1 Axes>"
      ]
     },
     "metadata": {
      "needs_background": "light"
     },
     "output_type": "display_data"
    },
    {
     "data": {
      "image/png": "[encoded data removed]",
      "text/plain": [
       "<Figure size 432x288 with 1 Axes>"
      ]
     },
     "metadata": {
      "needs_background": "light"
     },
     "output_type": "display_data"
    },
    {
     "data": {
      "image/png": "[encoded data removed]",
      "text/plain": [
       "<Figure size 432x288 with 1 Axes>"
      ]
     },
     "metadata": {
      "needs_background": "light"
     },
     "output_type": "display_data"
    },
    {
     "data": {
      "image/png": "[encoded data removed]",
      "text/plain": [
       "<Figure size 432x288 with 1 Axes>"
      ]
     },
     "metadata": {
      "needs_background": "light"
     },
     "output_type": "display_data"
    },
    {
     "data": {
      "image/png": "[encoded data removed]",
      "text/plain": [
       "<Figure size 432x288 with 1 Axes>"
      ]
     },
     "metadata": {
      "needs_background": "light"
     },
     "output_type": "display_data"
    }
   ],
   "source": [
    "for col in range(3, 32):\n",
    "    sns.boxplot(y = train_set[1], x = col, data=train_set)\n",
    "    plt.show()"
   ]
  },
  {
   "cell_type": "code",
   "execution_count": 17,
   "id": "68b4d4e5",
   "metadata": {},
   "outputs": [
    {
     "data": {
      "text/plain": [
       "([], [])"
      ]
     },
     "execution_count": 17,
     "metadata": {},
     "output_type": "execute_result"
    },
    {
     "data": {
      "image/png": "[encoded data removed]",
      "text/plain": [
       "<Figure size 576x432 with 1 Axes>"
      ]
     },
     "metadata": {},
     "output_type": "display_data"
    }
   ],
   "source": [
    "## Visualization of the data set\n",
    "## From the above we select 22, 29 as the best features\n",
    "from mpl_toolkits.mplot3d import Axes3D\n",
    "i = 22\n",
    "j = 29\n",
    "X = train_set.loc[:, [i, j]] # we only take the important two features.\n",
    "Y = copy.deepcopy(train_set[1])\n",
    "Y[Y == \"B\"] = 0\n",
    "Y[Y == \"M\"] = 1\n",
    "x_min, x_max = X[i].min() - .05, X[i].max() + .05\n",
    "y_min, y_max = X[j].min() - .05, X[j].max() + .05\n",
    "\n",
    "plt.figure(figsize=(8, 6))\n",
    "\n",
    "# Plot the training points\n",
    "plt.scatter(X[i], X[j], c=Y.values, cmap=plt.cm.Paired)\n",
    "plt.xlabel(i)\n",
    "plt.ylabel(j)\n",
    "\n",
    "plt.xlim(x_min, x_max)\n",
    "plt.ylim(y_min, y_max)\n",
    "plt.xticks(())\n",
    "plt.yticks(())"
   ]
  },
  {
   "cell_type": "markdown",
   "id": "5471ee0c",
   "metadata": {},
   "source": [
    "#### Normalisation"
   ]
  },
  {
   "cell_type": "code",
   "execution_count": 18,
   "id": "2662e988",
   "metadata": {},
   "outputs": [],
   "source": [
    "scaler = MinMaxScaler()"
   ]
  },
  {
   "cell_type": "code",
   "execution_count": 19,
   "id": "326a13c7",
   "metadata": {},
   "outputs": [],
   "source": [
    "train_X_norm = scaler.fit_transform(train_X)"
   ]
  },
  {
   "cell_type": "code",
   "execution_count": 20,
   "id": "96434ef5",
   "metadata": {},
   "outputs": [],
   "source": [
    "eval_X_norm = scaler.transform(eval_X)"
   ]
  },
  {
   "cell_type": "code",
   "execution_count": 21,
   "id": "03fd945b",
   "metadata": {},
   "outputs": [],
   "source": [
    "test_X_norm = scaler.transform(test_X)"
   ]
  },
  {
   "cell_type": "code",
   "execution_count": 22,
   "id": "c9e00ed9",
   "metadata": {},
   "outputs": [],
   "source": [
    "train_eval_X_norm = scaler.transform(train_eval_set_X)"
   ]
  },
  {
   "cell_type": "markdown",
   "id": "dc9df287",
   "metadata": {},
   "source": [
    "#### Decision Trees"
   ]
  },
  {
   "cell_type": "code",
   "execution_count": 23,
   "id": "94dd0154",
   "metadata": {},
   "outputs": [],
   "source": [
    "distributions = dict(criterion = [\"entropy\", \"gini\"],\n",
    "                     max_depth = range(2,10),\n",
    "                     min_samples_leaf = range(5, 20)\n",
    ")"
   ]
  },
  {
   "cell_type": "code",
   "execution_count": 24,
   "id": "51b4828f",
   "metadata": {},
   "outputs": [],
   "source": [
    "tree_clf = DecisionTreeClassifier()"
   ]
  },
  {
   "cell_type": "code",
   "execution_count": 25,
   "id": "9c5b91d1",
   "metadata": {},
   "outputs": [],
   "source": [
    "# clf = RandomizedSearchCV(tree_clf, distributions, random_state=42)\n",
    "clf = GridSearchCV(tree_clf, distributions)\n",
    "\n",
    "search = clf.fit(train_X, train_Y)\n",
    "\n",
    "search.best_params_\n",
    "\n",
    "tree_clf = DecisionTreeClassifier(**search.best_params_)"
   ]
  },
  {
   "cell_type": "code",
   "execution_count": 26,
   "id": "895894bd",
   "metadata": {},
   "outputs": [
    {
     "data": {
      "text/plain": [
       "DecisionTreeClassifier(criterion='entropy', max_depth=5, min_samples_leaf=8)"
      ]
     },
     "execution_count": 26,
     "metadata": {},
     "output_type": "execute_result"
    }
   ],
   "source": [
    "tree_clf.fit(train_X, train_Y)"
   ]
  },
  {
   "cell_type": "code",
   "execution_count": 27,
   "id": "f0ccef78",
   "metadata": {},
   "outputs": [],
   "source": [
    "eval_pred = tree_clf.predict(eval_X)"
   ]
  },
  {
   "cell_type": "code",
   "execution_count": 28,
   "id": "825208c3",
   "metadata": {},
   "outputs": [
    {
     "data": {
      "text/plain": [
       "array([[83,  3],\n",
       "       [ 3, 48]], dtype=int64)"
      ]
     },
     "execution_count": 28,
     "metadata": {},
     "output_type": "execute_result"
    }
   ],
   "source": [
    "confusion_matrix(eval_Y, eval_pred)"
   ]
  },
  {
   "cell_type": "code",
   "execution_count": 29,
   "id": "49fbee3d",
   "metadata": {},
   "outputs": [],
   "source": [
    "df = pd.DataFrame(classification_report(eval_Y, eval_pred, output_dict=True))"
   ]
  },
  {
   "cell_type": "code",
   "execution_count": 30,
   "id": "e429de8d",
   "metadata": {},
   "outputs": [
    {
     "data": {
      "text/html": [
       "<div>\n",
       "<style scoped>\n",
       "    .dataframe tbody tr th:only-of-type {\n",
       "        vertical-align: middle;\n",
       "    }\n",
       "\n",
       "    .dataframe tbody tr th {\n",
       "        vertical-align: top;\n",
       "    }\n",
       "\n",
       "    .dataframe thead th {\n",
       "        text-align: right;\n",
       "    }\n",
       "</style>\n",
       "<table border=\"1\" class=\"dataframe\">\n",
       "  <thead>\n",
       "    <tr style=\"text-align: right;\">\n",
       "      <th></th>\n",
       "      <th>B</th>\n",
       "      <th>M</th>\n",
       "      <th>accuracy</th>\n",
       "      <th>macro avg</th>\n",
       "      <th>weighted avg</th>\n",
       "    </tr>\n",
       "  </thead>\n",
       "  <tbody>\n",
       "    <tr>\n",
       "      <th>precision</th>\n",
       "      <td>0.965116</td>\n",
       "      <td>0.941176</td>\n",
       "      <td>0.956204</td>\n",
       "      <td>0.953146</td>\n",
       "      <td>0.956204</td>\n",
       "    </tr>\n",
       "    <tr>\n",
       "      <th>recall</th>\n",
       "      <td>0.965116</td>\n",
       "      <td>0.941176</td>\n",
       "      <td>0.956204</td>\n",
       "      <td>0.953146</td>\n",
       "      <td>0.956204</td>\n",
       "    </tr>\n",
       "    <tr>\n",
       "      <th>f1-score</th>\n",
       "      <td>0.965116</td>\n",
       "      <td>0.941176</td>\n",
       "      <td>0.956204</td>\n",
       "      <td>0.953146</td>\n",
       "      <td>0.956204</td>\n",
       "    </tr>\n",
       "    <tr>\n",
       "      <th>support</th>\n",
       "      <td>86.000000</td>\n",
       "      <td>51.000000</td>\n",
       "      <td>0.956204</td>\n",
       "      <td>137.000000</td>\n",
       "      <td>137.000000</td>\n",
       "    </tr>\n",
       "  </tbody>\n",
       "</table>\n",
       "</div>"
      ],
      "text/plain": [
       "                   B          M  accuracy   macro avg  weighted avg\n",
       "precision   0.965116   0.941176  0.956204    0.953146      0.956204\n",
       "recall      0.965116   0.941176  0.956204    0.953146      0.956204\n",
       "f1-score    0.965116   0.941176  0.956204    0.953146      0.956204\n",
       "support    86.000000  51.000000  0.956204  137.000000    137.000000"
      ]
     },
     "execution_count": 30,
     "metadata": {},
     "output_type": "execute_result"
    }
   ],
   "source": [
    "df"
   ]
  },
  {
   "cell_type": "code",
   "execution_count": 31,
   "id": "619e624b",
   "metadata": {
    "scrolled": true
   },
   "outputs": [
    {
     "data": {
      "image/png": "[encoded data removed]",
      "text/plain": [
       "<Figure size 432x288 with 2 Axes>"
      ]
     },
     "metadata": {
      "needs_background": "light"
     },
     "output_type": "display_data"
    }
   ],
   "source": [
    "#To show overfitting and underfitting, with lower depth we should get underfitting \n",
    "    #and with higher depth we should get overfitting\n",
    "complexity_values = range(1,10)\n",
    "\n",
    "train_accuracies = []\n",
    "test_accuracies = []\n",
    "train_accuracies_recall = []\n",
    "test_accuracies_recall = []\n",
    "\n",
    "for complexity_value in complexity_values:\n",
    "    clf = DecisionTreeClassifier(criterion=\"entropy\", max_depth=complexity_value, \n",
    "                                 random_state=42)\n",
    "    \n",
    "    clf.fit(train_X, train_Y)\n",
    "    \n",
    "    y_pred = clf.predict(eval_X)\n",
    "    test_accuracies.append(accuracy_score(eval_Y, y_pred))\n",
    "    test_accuracies_recall.append(recall_score(eval_Y, y_pred, pos_label=\"M\"))\n",
    "    \n",
    "    y_pred = clf.predict(train_X)\n",
    "    train_accuracies_recall.append(recall_score(train_Y, y_pred, pos_label=\"M\"))\n",
    "    train_accuracies.append(accuracy_score(train_Y, y_pred))\n",
    "\n",
    "fig, (ax1, ax2) = plt.subplots(1, 2)\n",
    "fig.suptitle('Recall and Accuracy against complexity level in train and test sets')\n",
    "line1, = ax1.plot(complexity_values, test_accuracies_recall,label='test_accuracies')\n",
    "line2, = ax1.plot(complexity_values, train_accuracies_recall,label='train_accuracies')\n",
    "    \n",
    "line1, = ax2.plot(complexity_values, test_accuracies,label='test_accuracies')\n",
    "line2, = ax2.plot(complexity_values, train_accuracies,label='train_accuracies')\n",
    "\n",
    "ax1.set_xlabel(\"max_depth\")\n",
    "ax2.set_xlabel(\"max_depth\")\n",
    "\n",
    "ax1.set_ylabel(\"Recall\")\n",
    "ax2.set_ylabel(\"Accuracy\")\n",
    "ax1.legend((line1, line2), ('test', 'train'))\n",
    "ax2.legend((line1, line2), ('test', 'train'))\n",
    "fig.tight_layout()\n",
    "plt.show()"
   ]
  },
  {
   "cell_type": "code",
   "execution_count": 32,
   "id": "8972ea1c",
   "metadata": {},
   "outputs": [],
   "source": [
    "# We can see underfiting when max_depth <=2 where train and test \n",
    "    #are initially very close and training accuracy is low\n",
    "# We can see overfitting when test accuracy decreases after \n",
    "    #max_depth = 3 and training accuracy keeps increasing"
   ]
  },
  {
   "cell_type": "markdown",
   "id": "ef6df4a0",
   "metadata": {},
   "source": [
    "###### Exporting tree to a visual format"
   ]
  },
  {
   "cell_type": "code",
   "execution_count": 33,
   "id": "7b100352",
   "metadata": {},
   "outputs": [],
   "source": [
    "f = open(\"hw_1_dt.dot\", 'w')\n",
    "export_graphviz(\n",
    "    tree_clf,\n",
    "    out_file=f,\n",
    "    feature_names = train_set.drop([0, 1], axis = 1).columns,\n",
    "    class_names= train_set[1].unique(),\n",
    "    rounded = True,\n",
    "    filled = True\n",
    ")"
   ]
  },
  {
   "cell_type": "code",
   "execution_count": 34,
   "id": "7d8f51bd",
   "metadata": {},
   "outputs": [
    {
     "data": {
      "text/plain": [
       "'hw_1_dt.dot.pdf'"
      ]
     },
     "execution_count": 34,
     "metadata": {},
     "output_type": "execute_result"
    }
   ],
   "source": [
    "from graphviz import Source\n",
    "path = 'hw_1_dt.dot'\n",
    "s = Source.from_file(path)\n",
    "s.view()"
   ]
  },
  {
   "cell_type": "code",
   "execution_count": null,
   "id": "83c33188",
   "metadata": {},
   "outputs": [],
   "source": []
  },
  {
   "cell_type": "markdown",
   "id": "24d481f5",
   "metadata": {},
   "source": [
    "#### KNN"
   ]
  },
  {
   "cell_type": "code",
   "execution_count": 35,
   "id": "a10fca63",
   "metadata": {},
   "outputs": [],
   "source": [
    "neigh = KNeighborsClassifier()"
   ]
  },
  {
   "cell_type": "code",
   "execution_count": 36,
   "id": "fd2fea25",
   "metadata": {},
   "outputs": [],
   "source": [
    "distributions = dict(n_neighbors = range(3, 10),\n",
    "                    weights = [\"distance\", \"uniform\"]\n",
    ")"
   ]
  },
  {
   "cell_type": "code",
   "execution_count": 37,
   "id": "784b0580",
   "metadata": {},
   "outputs": [],
   "source": [
    "# clf = RandomizedSearchCV(tree_clf, distributions, random_state=42)\n",
    "clf = GridSearchCV(neigh, distributions)"
   ]
  },
  {
   "cell_type": "code",
   "execution_count": 38,
   "id": "48ea8567",
   "metadata": {},
   "outputs": [],
   "source": [
    "search = clf.fit(train_X_norm, train_Y)"
   ]
  },
  {
   "cell_type": "code",
   "execution_count": 39,
   "id": "1f30a52d",
   "metadata": {},
   "outputs": [
    {
     "data": {
      "text/plain": [
       "{'n_neighbors': 5, 'weights': 'distance'}"
      ]
     },
     "execution_count": 39,
     "metadata": {},
     "output_type": "execute_result"
    }
   ],
   "source": [
    "search.best_params_"
   ]
  },
  {
   "cell_type": "code",
   "execution_count": 40,
   "id": "4517b1d6",
   "metadata": {},
   "outputs": [],
   "source": [
    "neigh = KNeighborsClassifier(**search.best_params_)"
   ]
  },
  {
   "cell_type": "code",
   "execution_count": 41,
   "id": "0ea0e74b",
   "metadata": {},
   "outputs": [
    {
     "data": {
      "text/plain": [
       "KNeighborsClassifier(weights='distance')"
      ]
     },
     "execution_count": 41,
     "metadata": {},
     "output_type": "execute_result"
    }
   ],
   "source": [
    "neigh.fit(train_X_norm, train_Y)"
   ]
  },
  {
   "cell_type": "code",
   "execution_count": 42,
   "id": "40f376cd",
   "metadata": {},
   "outputs": [],
   "source": [
    "eval_pred = neigh.predict(eval_X_norm)"
   ]
  },
  {
   "cell_type": "code",
   "execution_count": 43,
   "id": "b30e1b19",
   "metadata": {},
   "outputs": [
    {
     "data": {
      "text/plain": [
       "array([[86,  0],\n",
       "       [ 3, 48]], dtype=int64)"
      ]
     },
     "execution_count": 43,
     "metadata": {},
     "output_type": "execute_result"
    }
   ],
   "source": [
    "confusion_matrix(eval_Y, eval_pred)"
   ]
  },
  {
   "cell_type": "code",
   "execution_count": 44,
   "id": "97d301f7",
   "metadata": {},
   "outputs": [],
   "source": [
    "df = pd.DataFrame(classification_report(eval_Y, eval_pred, output_dict=True))"
   ]
  },
  {
   "cell_type": "code",
   "execution_count": 45,
   "id": "6a121304",
   "metadata": {
    "scrolled": true
   },
   "outputs": [
    {
     "data": {
      "text/html": [
       "<div>\n",
       "<style scoped>\n",
       "    .dataframe tbody tr th:only-of-type {\n",
       "        vertical-align: middle;\n",
       "    }\n",
       "\n",
       "    .dataframe tbody tr th {\n",
       "        vertical-align: top;\n",
       "    }\n",
       "\n",
       "    .dataframe thead th {\n",
       "        text-align: right;\n",
       "    }\n",
       "</style>\n",
       "<table border=\"1\" class=\"dataframe\">\n",
       "  <thead>\n",
       "    <tr style=\"text-align: right;\">\n",
       "      <th></th>\n",
       "      <th>B</th>\n",
       "      <th>M</th>\n",
       "      <th>accuracy</th>\n",
       "      <th>macro avg</th>\n",
       "      <th>weighted avg</th>\n",
       "    </tr>\n",
       "  </thead>\n",
       "  <tbody>\n",
       "    <tr>\n",
       "      <th>precision</th>\n",
       "      <td>0.966292</td>\n",
       "      <td>1.000000</td>\n",
       "      <td>0.978102</td>\n",
       "      <td>0.983146</td>\n",
       "      <td>0.978840</td>\n",
       "    </tr>\n",
       "    <tr>\n",
       "      <th>recall</th>\n",
       "      <td>1.000000</td>\n",
       "      <td>0.941176</td>\n",
       "      <td>0.978102</td>\n",
       "      <td>0.970588</td>\n",
       "      <td>0.978102</td>\n",
       "    </tr>\n",
       "    <tr>\n",
       "      <th>f1-score</th>\n",
       "      <td>0.982857</td>\n",
       "      <td>0.969697</td>\n",
       "      <td>0.978102</td>\n",
       "      <td>0.976277</td>\n",
       "      <td>0.977958</td>\n",
       "    </tr>\n",
       "    <tr>\n",
       "      <th>support</th>\n",
       "      <td>86.000000</td>\n",
       "      <td>51.000000</td>\n",
       "      <td>0.978102</td>\n",
       "      <td>137.000000</td>\n",
       "      <td>137.000000</td>\n",
       "    </tr>\n",
       "  </tbody>\n",
       "</table>\n",
       "</div>"
      ],
      "text/plain": [
       "                   B          M  accuracy   macro avg  weighted avg\n",
       "precision   0.966292   1.000000  0.978102    0.983146      0.978840\n",
       "recall      1.000000   0.941176  0.978102    0.970588      0.978102\n",
       "f1-score    0.982857   0.969697  0.978102    0.976277      0.977958\n",
       "support    86.000000  51.000000  0.978102  137.000000    137.000000"
      ]
     },
     "execution_count": 45,
     "metadata": {},
     "output_type": "execute_result"
    }
   ],
   "source": [
    "df"
   ]
  },
  {
   "cell_type": "code",
   "execution_count": 46,
   "id": "76d0d403",
   "metadata": {
    "scrolled": true
   },
   "outputs": [
    {
     "data": {
      "image/png": "[encoded data removed]",
      "text/plain": [
       "<Figure size 432x288 with 2 Axes>"
      ]
     },
     "metadata": {
      "needs_background": "light"
     },
     "output_type": "display_data"
    }
   ],
   "source": [
    "#To show overfitting and underfitting, with less number of neighbors underfitting \n",
    "#happens and with too many neighbors overfitting occurs\n",
    "complexity_values = range(1,20)\n",
    "\n",
    "train_accuracies = []\n",
    "test_accuracies=[]\n",
    "train_accuracies_recall = []\n",
    "test_accuracies_recall =[]\n",
    "\n",
    "for complexity_value in complexity_values:\n",
    "    clf = KNeighborsClassifier(n_neighbors=complexity_value, weights=\"uniform\")\n",
    "    clf.fit(train_X_norm, train_Y)\n",
    "    y_pred = clf.predict(eval_X_norm)\n",
    "    test_accuracies.append(accuracy_score(eval_Y, y_pred))\n",
    "    test_accuracies_recall.append(recall_score(eval_Y, y_pred, pos_label=\"M\"))\n",
    "    \n",
    "    y_pred = clf.predict(train_X_norm)\n",
    "    train_accuracies_recall.append(recall_score(train_Y, y_pred, pos_label=\"M\"))\n",
    "    train_accuracies.append(accuracy_score(train_Y, y_pred))\n",
    "\n",
    "fig, (ax1, ax2) = plt.subplots(1, 2)\n",
    "fig.suptitle('Recall and Accuracy against complexity level in train and test sets')\n",
    "line1, = ax1.plot(complexity_values, test_accuracies_recall,label='test_accuracies')\n",
    "line2, = ax1.plot(complexity_values, train_accuracies_recall,label='train_accuracies')\n",
    "    \n",
    "line1, = ax2.plot(complexity_values, test_accuracies,label='test_accuracies')\n",
    "line2, = ax2.plot(complexity_values, train_accuracies,label='train_accuracies')\n",
    "\n",
    "ax1.set_xlabel(\"Neighbors\")\n",
    "ax2.set_xlabel(\"Neighbors\")\n",
    "\n",
    "ax1.set_ylabel(\"Recall\")\n",
    "ax2.set_ylabel(\"Accuracy\")\n",
    "ax1.legend((line1, line2), ('test', 'train'))\n",
    "ax2.legend((line1, line2), ('test', 'train'))\n",
    "fig.tight_layout()\n",
    "plt.show()"
   ]
  },
  {
   "cell_type": "code",
   "execution_count": 47,
   "id": "ec0828bc",
   "metadata": {},
   "outputs": [],
   "source": [
    "#As number of neighbors increases the model is underfitting\n",
    "#As the number of neighbors is low the model overfits on the data"
   ]
  },
  {
   "cell_type": "markdown",
   "id": "932b07fa",
   "metadata": {},
   "source": [
    "#### Logistic Regression"
   ]
  },
  {
   "cell_type": "code",
   "execution_count": 70,
   "id": "59a7aa27",
   "metadata": {},
   "outputs": [],
   "source": [
    "log_reg = LogisticRegression()"
   ]
  },
  {
   "cell_type": "code",
   "execution_count": 49,
   "id": "f4ef687b",
   "metadata": {},
   "outputs": [],
   "source": [
    "distributions = dict(C= [1e-4, 1e-5, 0.001, 0.01, 0.1, 1, 10, 100, 1000], \n",
    "                    tol = [1e-3, 1e-4, 1e-2],\n",
    "                    penalty = [\n",
    "                        \"l1\",\n",
    "                        \"l2\"],\n",
    "                    solver=[\n",
    "                        \"lbfgs\",\n",
    "                        \"liblinear\",\n",
    "                        \"newton-cg\"\n",
    "                    ],\n",
    ")"
   ]
  },
  {
   "cell_type": "code",
   "execution_count": 50,
   "id": "cddcc7dd",
   "metadata": {},
   "outputs": [],
   "source": [
    "# clf = RandomizedSearchCV(tree_clf, distributions, random_state=42)\n",
    "clf = GridSearchCV(log_reg, distributions)"
   ]
  },
  {
   "cell_type": "code",
   "execution_count": 51,
   "id": "86e8d05b",
   "metadata": {},
   "outputs": [],
   "source": [
    "search = clf.fit(train_X_norm, train_Y)"
   ]
  },
  {
   "cell_type": "code",
   "execution_count": 52,
   "id": "2ebf6656",
   "metadata": {},
   "outputs": [
    {
     "data": {
      "text/plain": [
       "{'C': 100, 'penalty': 'l1', 'solver': 'liblinear', 'tol': 0.01}"
      ]
     },
     "execution_count": 52,
     "metadata": {},
     "output_type": "execute_result"
    }
   ],
   "source": [
    "best_params = copy.deepcopy(search.best_params_)\n",
    "best_params"
   ]
  },
  {
   "cell_type": "code",
   "execution_count": 53,
   "id": "186a4413",
   "metadata": {},
   "outputs": [],
   "source": [
    "log_reg = LogisticRegression(**search.best_params_)"
   ]
  },
  {
   "cell_type": "code",
   "execution_count": 54,
   "id": "612f0928",
   "metadata": {},
   "outputs": [
    {
     "data": {
      "text/plain": [
       "LogisticRegression(C=100, penalty='l1', solver='liblinear', tol=0.01)"
      ]
     },
     "execution_count": 54,
     "metadata": {},
     "output_type": "execute_result"
    }
   ],
   "source": [
    "log_reg.fit(train_X_norm, train_Y)"
   ]
  },
  {
   "cell_type": "code",
   "execution_count": 55,
   "id": "c7408c42",
   "metadata": {},
   "outputs": [],
   "source": [
    "eval_pred = log_reg.predict(eval_X_norm)"
   ]
  },
  {
   "cell_type": "code",
   "execution_count": 56,
   "id": "4c795543",
   "metadata": {},
   "outputs": [
    {
     "data": {
      "text/plain": [
       "array([[84,  2],\n",
       "       [ 1, 50]], dtype=int64)"
      ]
     },
     "execution_count": 56,
     "metadata": {},
     "output_type": "execute_result"
    }
   ],
   "source": [
    "confusion_matrix(eval_Y, eval_pred)"
   ]
  },
  {
   "cell_type": "code",
   "execution_count": 57,
   "id": "941252aa",
   "metadata": {},
   "outputs": [],
   "source": [
    "df = pd.DataFrame(classification_report(eval_Y, eval_pred, output_dict=True))"
   ]
  },
  {
   "cell_type": "code",
   "execution_count": 58,
   "id": "de4d885d",
   "metadata": {},
   "outputs": [
    {
     "data": {
      "text/html": [
       "<div>\n",
       "<style scoped>\n",
       "    .dataframe tbody tr th:only-of-type {\n",
       "        vertical-align: middle;\n",
       "    }\n",
       "\n",
       "    .dataframe tbody tr th {\n",
       "        vertical-align: top;\n",
       "    }\n",
       "\n",
       "    .dataframe thead th {\n",
       "        text-align: right;\n",
       "    }\n",
       "</style>\n",
       "<table border=\"1\" class=\"dataframe\">\n",
       "  <thead>\n",
       "    <tr style=\"text-align: right;\">\n",
       "      <th></th>\n",
       "      <th>B</th>\n",
       "      <th>M</th>\n",
       "      <th>accuracy</th>\n",
       "      <th>macro avg</th>\n",
       "      <th>weighted avg</th>\n",
       "    </tr>\n",
       "  </thead>\n",
       "  <tbody>\n",
       "    <tr>\n",
       "      <th>precision</th>\n",
       "      <td>0.988235</td>\n",
       "      <td>0.961538</td>\n",
       "      <td>0.978102</td>\n",
       "      <td>0.974887</td>\n",
       "      <td>0.978297</td>\n",
       "    </tr>\n",
       "    <tr>\n",
       "      <th>recall</th>\n",
       "      <td>0.976744</td>\n",
       "      <td>0.980392</td>\n",
       "      <td>0.978102</td>\n",
       "      <td>0.978568</td>\n",
       "      <td>0.978102</td>\n",
       "    </tr>\n",
       "    <tr>\n",
       "      <th>f1-score</th>\n",
       "      <td>0.982456</td>\n",
       "      <td>0.970874</td>\n",
       "      <td>0.978102</td>\n",
       "      <td>0.976665</td>\n",
       "      <td>0.978144</td>\n",
       "    </tr>\n",
       "    <tr>\n",
       "      <th>support</th>\n",
       "      <td>86.000000</td>\n",
       "      <td>51.000000</td>\n",
       "      <td>0.978102</td>\n",
       "      <td>137.000000</td>\n",
       "      <td>137.000000</td>\n",
       "    </tr>\n",
       "  </tbody>\n",
       "</table>\n",
       "</div>"
      ],
      "text/plain": [
       "                   B          M  accuracy   macro avg  weighted avg\n",
       "precision   0.988235   0.961538  0.978102    0.974887      0.978297\n",
       "recall      0.976744   0.980392  0.978102    0.978568      0.978102\n",
       "f1-score    0.982456   0.970874  0.978102    0.976665      0.978144\n",
       "support    86.000000  51.000000  0.978102  137.000000    137.000000"
      ]
     },
     "execution_count": 58,
     "metadata": {},
     "output_type": "execute_result"
    }
   ],
   "source": [
    "df"
   ]
  },
  {
   "cell_type": "code",
   "execution_count": 69,
   "id": "b9584b02",
   "metadata": {
    "scrolled": true
   },
   "outputs": [
    {
     "data": {
      "image/png": "[encoded data removed]",
      "text/plain": [
       "<Figure size 432x288 with 2 Axes>"
      ]
     },
     "metadata": {
      "needs_background": "light"
     },
     "output_type": "display_data"
    }
   ],
   "source": [
    "#To show overfitting and underfitting, with less C underfitting happens \n",
    "    #and with too much C overfitting occurs\n",
    "complexity_values = [1e-4, 1e-3, 0.01, 0.1, 1, 10, 100, 1000]\n",
    "\n",
    "train_accuracies = []\n",
    "test_accuracies=[]\n",
    "\n",
    "train_accuracies_recall = []\n",
    "test_accuracies_recall =[]\n",
    "\n",
    "log_reg_params = search.best_params_\n",
    "\n",
    "for complexity_value in complexity_values:\n",
    "    log_reg_params[\"C\"] = complexity_value\n",
    "    clf = LogisticRegression(**log_reg_params)\n",
    "    clf.fit(train_X_norm, train_Y)\n",
    "    y_pred = clf.predict(eval_X_norm)\n",
    "    test_accuracies.append(accuracy_score(eval_Y, y_pred))\n",
    "    test_accuracies_recall.append(recall_score(eval_Y, y_pred, pos_label=\"M\"))\n",
    "    \n",
    "    y_pred = clf.predict(train_X_norm)\n",
    "    train_accuracies_recall.append(recall_score(train_Y, y_pred, pos_label=\"M\"))\n",
    "    train_accuracies.append(accuracy_score(train_Y, y_pred))\n",
    "complexity_values = [math.log(x, 10) for x in complexity_values]\n",
    "fig, (ax1, ax2) = plt.subplots(1, 2)\n",
    "fig.suptitle('Recall and Accuracy against complexity level in train and test sets')\n",
    "line1, = ax1.plot(complexity_values, test_accuracies_recall,label='test_accuracies')\n",
    "line2, = ax1.plot(complexity_values, train_accuracies_recall,label='train_accuracies')\n",
    "    \n",
    "line1, = ax2.plot(complexity_values, test_accuracies,label='test_accuracies')\n",
    "line2, = ax2.plot(complexity_values, train_accuracies,label='train_accuracies')\n",
    "\n",
    "ax1.set_xlabel(\"C\")\n",
    "ax2.set_xlabel(\"C\")\n",
    "\n",
    "ax1.set_ylabel(\"Recall\")\n",
    "ax2.set_ylabel(\"Accuracy\")\n",
    "ax1.legend((line1, line2), ('test', 'train'))\n",
    "ax2.legend((line1, line2), ('test', 'train'))\n",
    "fig.tight_layout()\n",
    "plt.show()"
   ]
  },
  {
   "cell_type": "code",
   "execution_count": 60,
   "id": "ba368803",
   "metadata": {},
   "outputs": [],
   "source": [
    "#As C increases the lambda decreases and we let the model \n",
    "    #overfit as the penalty is lower. The \n",
    "#When C is low there is a heavy penalty and the model \n",
    "    #underfits our data and it has lower accuracy."
   ]
  },
  {
   "cell_type": "markdown",
   "id": "a8e60e49",
   "metadata": {},
   "source": [
    "#### Selected the best model as logistic as it has the best recall for our malignant class and also the best accuracy."
   ]
  },
  {
   "cell_type": "code",
   "execution_count": 61,
   "id": "a6e473ed",
   "metadata": {},
   "outputs": [
    {
     "data": {
      "text/plain": [
       "{'C': 100, 'penalty': 'l1', 'solver': 'liblinear', 'tol': 0.01}"
      ]
     },
     "execution_count": 61,
     "metadata": {},
     "output_type": "execute_result"
    }
   ],
   "source": [
    "#Selecting best parameters gotten from grid search\n",
    "best_params"
   ]
  },
  {
   "cell_type": "markdown",
   "id": "bd60b8f9",
   "metadata": {},
   "source": [
    "#### Best selected model and using both training and evaluation as training set and testing on the test set."
   ]
  },
  {
   "cell_type": "code",
   "execution_count": 62,
   "id": "bbe5f32a",
   "metadata": {},
   "outputs": [],
   "source": [
    "log_reg = LogisticRegression(**best_params)"
   ]
  },
  {
   "cell_type": "code",
   "execution_count": 63,
   "id": "9d08e88a",
   "metadata": {},
   "outputs": [
    {
     "data": {
      "text/plain": [
       "LogisticRegression(C=100, penalty='l1', solver='liblinear', tol=0.01)"
      ]
     },
     "execution_count": 63,
     "metadata": {},
     "output_type": "execute_result"
    }
   ],
   "source": [
    "log_reg.fit(train_eval_X_norm, train_eval_set_Y)"
   ]
  },
  {
   "cell_type": "code",
   "execution_count": 64,
   "id": "6a5e1f73",
   "metadata": {},
   "outputs": [],
   "source": [
    "y_pred = log_reg.predict(test_X_norm)"
   ]
  },
  {
   "cell_type": "code",
   "execution_count": 66,
   "id": "236a7c44",
   "metadata": {},
   "outputs": [],
   "source": [
    "df = pd.DataFrame(classification_report(eval_Y, eval_pred, output_dict=True))"
   ]
  },
  {
   "cell_type": "code",
   "execution_count": 67,
   "id": "e3eabca4",
   "metadata": {},
   "outputs": [
    {
     "data": {
      "text/html": [
       "<div>\n",
       "<style scoped>\n",
       "    .dataframe tbody tr th:only-of-type {\n",
       "        vertical-align: middle;\n",
       "    }\n",
       "\n",
       "    .dataframe tbody tr th {\n",
       "        vertical-align: top;\n",
       "    }\n",
       "\n",
       "    .dataframe thead th {\n",
       "        text-align: right;\n",
       "    }\n",
       "</style>\n",
       "<table border=\"1\" class=\"dataframe\">\n",
       "  <thead>\n",
       "    <tr style=\"text-align: right;\">\n",
       "      <th></th>\n",
       "      <th>B</th>\n",
       "      <th>M</th>\n",
       "      <th>accuracy</th>\n",
       "      <th>macro avg</th>\n",
       "      <th>weighted avg</th>\n",
       "    </tr>\n",
       "  </thead>\n",
       "  <tbody>\n",
       "    <tr>\n",
       "      <th>precision</th>\n",
       "      <td>0.988235</td>\n",
       "      <td>0.961538</td>\n",
       "      <td>0.978102</td>\n",
       "      <td>0.974887</td>\n",
       "      <td>0.978297</td>\n",
       "    </tr>\n",
       "    <tr>\n",
       "      <th>recall</th>\n",
       "      <td>0.976744</td>\n",
       "      <td>0.980392</td>\n",
       "      <td>0.978102</td>\n",
       "      <td>0.978568</td>\n",
       "      <td>0.978102</td>\n",
       "    </tr>\n",
       "    <tr>\n",
       "      <th>f1-score</th>\n",
       "      <td>0.982456</td>\n",
       "      <td>0.970874</td>\n",
       "      <td>0.978102</td>\n",
       "      <td>0.976665</td>\n",
       "      <td>0.978144</td>\n",
       "    </tr>\n",
       "    <tr>\n",
       "      <th>support</th>\n",
       "      <td>86.000000</td>\n",
       "      <td>51.000000</td>\n",
       "      <td>0.978102</td>\n",
       "      <td>137.000000</td>\n",
       "      <td>137.000000</td>\n",
       "    </tr>\n",
       "  </tbody>\n",
       "</table>\n",
       "</div>"
      ],
      "text/plain": [
       "                   B          M  accuracy   macro avg  weighted avg\n",
       "precision   0.988235   0.961538  0.978102    0.974887      0.978297\n",
       "recall      0.976744   0.980392  0.978102    0.978568      0.978102\n",
       "f1-score    0.982456   0.970874  0.978102    0.976665      0.978144\n",
       "support    86.000000  51.000000  0.978102  137.000000    137.000000"
      ]
     },
     "execution_count": 67,
     "metadata": {},
     "output_type": "execute_result"
    }
   ],
   "source": [
    "df"
   ]
  },
  {
   "cell_type": "code",
   "execution_count": 71,
   "id": "1491dfbd",
   "metadata": {},
   "outputs": [
    {
     "data": {
      "text/plain": [
       "'\\nWe begin our classification by splitting the data into train, validation and test sets.\\nWe continue by creating normalizing sets of our sets of data.\\nExploring the dataset, I checked if the features had an even normal distribution \\n    or were skewed in some direction with outliers in data.\\nThis can be used for feature selection in knn, as knn needs feature selection.\\nFurther looking at the box plots for the different classes we could identify \\n    three good features and use them to visually depict the classification.\\nSearching for the best hyperparameters in all the three models by training and \\n    using the validation dataset for testing.\\nOut of the three models we select the one with the best recall as we care more \\n    about the recall of the malignant class.\\nThis gave us logistic regression as the best model.\\nWe also varied our parameters to check for underfitting and overfitting.\\nThe goodness of our model is defined by the malignant class recall.\\nFinally we combined our training and validation datasets to predict on the \\n    test set which gave us 96% recall. \\n'"
      ]
     },
     "execution_count": 71,
     "metadata": {},
     "output_type": "execute_result"
    }
   ],
   "source": [
    "'''\n",
    "We begin our classification by splitting the data into train, validation and test sets.\n",
    "We continue by creating normalizing sets of our sets of data.\n",
    "Exploring the dataset, I checked if the features had an even normal distribution \n",
    "    or were skewed in some direction with outliers in data.\n",
    "This can be used for feature selection in knn, as knn needs feature selection.\n",
    "Further looking at the box plots for the different classes we could identify \n",
    "    three good features and use them to visually depict the classification.\n",
    "Searching for the best hyperparameters in all the three models by training and \n",
    "    using the validation dataset for testing.\n",
    "Out of the three models we select the one with the best recall as we care more \n",
    "    about the recall of the malignant class.\n",
    "This gave us logistic regression as the best model.\n",
    "We also varied our parameters to check for underfitting and overfitting.\n",
    "The goodness of our model is defined by the malignant class recall.\n",
    "Finally we combined our training and validation datasets to predict on the \n",
    "    test set which gave us 96% recall. \n",
    "'''"
   ]
  },
  {
   "cell_type": "code",
   "execution_count": null,
   "id": "62e27198",
   "metadata": {},
   "outputs": [],
   "source": []
  },
  {
   "cell_type": "code",
   "execution_count": null,
   "id": "b5ed5c11",
   "metadata": {},
   "outputs": [],
   "source": []
  }
 ],
 "metadata": {
  "hide_input": false,
  "kernelspec": {
   "display_name": "Python 3 (ipykernel)",
   "language": "python",
   "name": "python3"
  },
  "language_info": {
   "codemirror_mode": {
    "name": "ipython",
    "version": 3
   },
   "file_extension": ".py",
   "mimetype": "text/x-python",
   "name": "python",
   "nbconvert_exporter": "python",
   "pygments_lexer": "ipython3",
   "version": "3.10.0"
  }
 },
 "nbformat": 4,
 "nbformat_minor": 5
}
